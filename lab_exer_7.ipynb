{
 "cells": [
  {
   "cell_type": "markdown",
   "metadata": {},
   "source": [
    "### Q1. Create two 3×3 matrices using the random function in Numpy and perform the following operations.\n",
    "1. Product (prod)\n",
    "2. Multiplication (multiply)\n",
    "3. Dot Product (dot)"
   ]
  },
  {
   "cell_type": "code",
   "execution_count": 70,
   "metadata": {},
   "outputs": [
    {
     "name": "stdout",
     "output_type": "stream",
     "text": [
      "Matrix 1:\n",
      "[[ 1 13 20]\n",
      " [ 5 19 25]\n",
      " [27 13  9]]\n",
      "\n",
      "Matrix 2:\n",
      "[[ 5 21  0]\n",
      " [ 5 19 16]\n",
      " [ 6 23 28]]\n",
      "\n",
      "Product of the MATRIX(element-wise multiplication):\n",
      "[[  5 273   0]\n",
      " [ 25 361 400]\n",
      " [162 299 252]]\n",
      "\n",
      "Multiplication of the MAtrix:\n",
      "[[  5 273   0]\n",
      " [ 25 361 400]\n",
      " [162 299 252]]\n",
      "\n",
      "Dot Product Of two Matrix:\n",
      "[[ 190  728  768]\n",
      " [ 270 1041 1004]\n",
      " [ 254 1021  460]]\n"
     ]
    }
   ],
   "source": [
    "import numpy as np\n",
    "\n",
    "# Create two random 3x3 matrices\n",
    "matrix1 = np.random.randint(30, size=(3, 3))\n",
    "matrix2 = np.random.randint(30, size=(3, 3))\n",
    "\n",
    "# Perform matrix operations\n",
    "\n",
    "# Product (element-wise multiplication)\n",
    "product_result = np.prod([matrix1, matrix2], axis=0)\n",
    "\n",
    "# Multiplication\n",
    "multiplication_result = np.multiply(matrix1, matrix2)\n",
    "\n",
    "# Dot Product\n",
    "dot_product_result = np.dot(matrix1, matrix2)\n",
    "\n",
    "print(\"Matrix 1:\")\n",
    "print(matrix1)\n",
    "print(\"\\nMatrix 2:\")\n",
    "print(matrix2)\n",
    "print(\"\\nProduct of the MATRIX(element-wise multiplication):\")\n",
    "print(product_result)\n",
    "print(\"\\nMultiplication of the MAtrix:\")\n",
    "print(multiplication_result)\n",
    "print(\"\\nDot Product Of two Matrix:\")\n",
    "print(dot_product_result)\n"
   ]
  },
  {
   "cell_type": "markdown",
   "metadata": {},
   "source": [
    "### Q2 .Perform the following set operations using the Numpy functions.\n",
    "1. Union\n",
    "2. Intersection\n",
    "3. Set difference\n",
    "4. XOR"
   ]
  },
  {
   "cell_type": "code",
   "execution_count": 73,
   "metadata": {},
   "outputs": [
    {
     "name": "stdout",
     "output_type": "stream",
     "text": [
      "Array 1: [11 22 33 44 55]\n",
      "Array 2: [33 30 55 66 77]\n",
      "Union Of the Arrays: [11 22 30 33 44 55 66 77]\n",
      "Intersection of the Array : [33 55]\n",
      "Set Difference of the two Array (Array 1 - Array 2): [11 22 44]\n",
      "XOR: [11 22 30 44 66 77]\n"
     ]
    }
   ],
   "source": [
    "import numpy as np\n",
    "\n",
    "# Create two arrays\n",
    "array1 = np.array([11, 22, 33, 44, 55])\n",
    "array2 = np.array([33, 30, 55, 66, 77])\n",
    "\n",
    "# Union\n",
    "union_result = np.union1d(array1, array2)\n",
    "\n",
    "# Intersection\n",
    "intersection_result = np.intersect1d(array1, array2)\n",
    "\n",
    "# Set Difference\n",
    "set_difference_result = np.setdiff1d(array1, array2)\n",
    "\n",
    "# XOR (Exclusive OR)\n",
    "xor_result = np.setxor1d(array1, array2)\n",
    "\n",
    "print(\"Array 1:\", array1)\n",
    "print(\"Array 2:\", array2)\n",
    "print(\"Union Of the Arrays:\", union_result)\n",
    "print(\"Intersection of the Array :\", intersection_result)\n",
    "print(\"Set Difference of the two Array (Array 1 - Array 2):\", set_difference_result)\n",
    "print(\"XOR:\", xor_result)\n"
   ]
  },
  {
   "cell_type": "markdown",
   "metadata": {},
   "source": [
    "### Q3. Create a 1D array using Random function and perform the following operations.\n",
    "1. Cumulative sum\n",
    "2. Cumulative Product\n",
    "3. Discrete difference (with n=3)\n",
    "4. Find the unique elements from the array"
   ]
  },
  {
   "cell_type": "code",
   "execution_count": 75,
   "metadata": {},
   "outputs": [
    {
     "name": "stdout",
     "output_type": "stream",
     "text": [
      "Original Array:\n",
      "[48 22 29 48  1]\n",
      "\n",
      "Cumulative Sum of the array:\n",
      "[ 48  70  99 147 148]\n",
      "\n",
      "Cumulative Product of the array:\n",
      "[     48    1056   30624 1469952 1469952]\n",
      "\n",
      "Discrete Difference of the array (n=3):\n",
      "[-21 -78]\n",
      "\n",
      "Unique Elements of the Array :\n",
      "[ 1 22 29 48]\n"
     ]
    }
   ],
   "source": [
    "\n",
    "import numpy as np\n",
    "\n",
    "# Create a random 1D array\n",
    "array = np.random.randint(50, size=(5))  # You can change the size of the array as needed\n",
    "\n",
    "# Cumulative sum\n",
    "cumulative_sum_result = np.cumsum(array)\n",
    "\n",
    "# Cumulative product\n",
    "cumulative_product_result = np.cumprod(array)\n",
    "\n",
    "# Discrete difference with n=3\n",
    "discrete_difference_result = np.diff(array, n=3)\n",
    "\n",
    "# Find unique elements\n",
    "unique_elements = np.unique(array)\n",
    "\n",
    "print(\"Original Array:\")\n",
    "print(array)\n",
    "print(\"\\nCumulative Sum of the array:\")\n",
    "print(cumulative_sum_result)\n",
    "print(\"\\nCumulative Product of the array:\")\n",
    "print(cumulative_product_result)\n",
    "print(\"\\nDiscrete Difference of the array (n=3):\")\n",
    "print(discrete_difference_result)\n",
    "print(\"\\nUnique Elements of the Array :\")\n",
    "print(unique_elements)\n"
   ]
  },
  {
   "cell_type": "markdown",
   "metadata": {},
   "source": [
    "### Q4. Create two 1D array and perform the Addition using zip(), add() and user defined function (frompyfunc())"
   ]
  },
  {
   "cell_type": "code",
   "execution_count": 77,
   "metadata": {},
   "outputs": [
    {
     "name": "stdout",
     "output_type": "stream",
     "text": [
      "zip of array x and y  [5, 7, 9, 11]\n",
      "addition of element of the 2 arrays [ 66  88 110 132]\n",
      "user defined function  [60 80 100 120]\n"
     ]
    }
   ],
   "source": [
    "import numpy as np\n",
    "x = [1, 2, 3, 4]\n",
    "y = [4, 5, 6, 7]\n",
    "z = []\n",
    "\n",
    "for i, j in zip(x, y):\n",
    "  z.append(i + j)\n",
    "print(\"zip of array x and y \",z)\n",
    "\n",
    "x = [11, 22, 33, 44]\n",
    "y = [55, 66, 77, 88]\n",
    "res = np.add(x, y)\n",
    "print(\"addition of element of the 2 arrays\",res)\n",
    "\n",
    "\n",
    "def myadd(x, y):\n",
    "  return x+y\n",
    "\n",
    "myadd = np.frompyfunc(myadd, 2, 1)\n",
    "\n",
    "print(\"user defined function \",myadd([10, 20, 30, 40], [50, 60, 70, 80]))"
   ]
  },
  {
   "cell_type": "markdown",
   "metadata": {},
   "source": [
    "### Q5. Find the LCM (Least Common Multiple) and GCD (Greatest Common Divisor) of an array of elements using reduce().\n"
   ]
  },
  {
   "cell_type": "code",
   "execution_count": 79,
   "metadata": {},
   "outputs": [
    {
     "name": "stdout",
     "output_type": "stream",
     "text": [
      "Array: [12 18 24 36 48]\n",
      "LCM: 144\n",
      "GCD: 6\n"
     ]
    }
   ],
   "source": [
    "import numpy as np\n",
    "from functools import reduce\n",
    "\n",
    "# Create an array of elements\n",
    "array = np.array([12, 18, 24, 36, 48])\n",
    "\n",
    "# Find the LCM using NumPy's lcm.reduce() function\n",
    "lcm_result = np.lcm.reduce(array)\n",
    "\n",
    "# Find the GCD using NumPy's gcd.reduce() function\n",
    "gcd_result = np.gcd.reduce(array)\n",
    "\n",
    "print(\"Array:\", array)\n",
    "print(\"LCM:\", lcm_result)\n",
    "print(\"GCD:\", gcd_result)\n",
    "\n"
   ]
  }
 ],
 "metadata": {
  "kernelspec": {
   "display_name": "Python 3",
   "language": "python",
   "name": "python3"
  },
  "language_info": {
   "codemirror_mode": {
    "name": "ipython",
    "version": 3
   },
   "file_extension": ".py",
   "mimetype": "text/x-python",
   "name": "python",
   "nbconvert_exporter": "python",
   "pygments_lexer": "ipython3",
   "version": "3.11.4"
  },
  "orig_nbformat": 4
 },
 "nbformat": 4,
 "nbformat_minor": 2
}
